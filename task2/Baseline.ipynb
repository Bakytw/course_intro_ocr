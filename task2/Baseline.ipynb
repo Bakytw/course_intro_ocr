{
 "cells": [
  {
   "cell_type": "code",
   "execution_count": 32,
   "id": "9f37abdd",
   "metadata": {},
   "outputs": [],
   "source": [
    "import os\n",
    "from pathlib import Path\n",
    "from data_reader import Vocabulary, HWDBDatasetHelper, LMDBReader\n",
    "\n",
    "root = Path().absolute().parent.parent / 'lmdb'\n",
    "train_path = os.path.join(root, 'train.lmdb')\n",
    "test_path = os.path.join(root, 'test.lmdb')\n",
    "gt_path = './gt.txt'"
   ]
  },
  {
   "cell_type": "markdown",
   "id": "2042614e",
   "metadata": {},
   "source": [
    "# Simple CNN baseline\n",
    "\n",
    "pytorch and lmdb are required for this baseline implementation\n",
    "\n",
    "## Baseline method\n",
    "\n",
    "- Naively resize to 32x32 (DON'T DO THIS IN YOUR WORK, try to save geometry somehow, it is important)\n",
    "- Train LeNet-like CNN\n",
    "- Enjoy :)"
   ]
  },
  {
   "cell_type": "code",
   "execution_count": 33,
   "id": "73d8b167",
   "metadata": {},
   "outputs": [],
   "source": [
    "import cv2\n",
    "import numpy as np"
   ]
  },
  {
   "cell_type": "markdown",
   "id": "f81f84ab",
   "metadata": {},
   "source": [
    "### Data tools"
   ]
  },
  {
   "cell_type": "code",
   "execution_count": 34,
   "id": "f7f882df",
   "metadata": {},
   "outputs": [],
   "source": [
    "train_reader = LMDBReader(train_path)\n",
    "train_reader.open()\n",
    "train_helper = HWDBDatasetHelper(train_reader)"
   ]
  },
  {
   "cell_type": "code",
   "execution_count": 35,
   "id": "35cf8784",
   "metadata": {},
   "outputs": [],
   "source": [
    "train_helper, val_helper = train_helper.train_val_split()"
   ]
  },
  {
   "cell_type": "code",
   "execution_count": 36,
   "id": "92eb367e",
   "metadata": {},
   "outputs": [
    {
     "data": {
      "text/plain": [
       "(2578433, 644609)"
      ]
     },
     "execution_count": 36,
     "metadata": {},
     "output_type": "execute_result"
    }
   ],
   "source": [
    "train_helper.size(), val_helper.size()"
   ]
  },
  {
   "cell_type": "code",
   "execution_count": 37,
   "id": "a63ffe27-a512-4497-8943-ebb1196eaae1",
   "metadata": {},
   "outputs": [],
   "source": [
    "img, label = train_helper.get_item(42)"
   ]
  },
  {
   "cell_type": "code",
   "execution_count": 38,
   "id": "814d439f-7602-4bf8-8035-54f0e914921a",
   "metadata": {},
   "outputs": [
    {
     "data": {
      "text/plain": [
       "<matplotlib.image.AxesImage at 0x213d864e3a0>"
      ]
     },
     "execution_count": 38,
     "metadata": {},
     "output_type": "execute_result"
    },
    {
     "data": {
      "image/png": "[encoded data removed]",
      "text/plain": [
       "<Figure size 640x480 with 1 Axes>"
      ]
     },
     "metadata": {},
     "output_type": "display_data"
    }
   ],
   "source": [
    "from matplotlib import pyplot as plt\n",
    "plt.imshow(img, cmap='gray')"
   ]
  },
  {
   "cell_type": "code",
   "execution_count": 39,
   "id": "22592d05",
   "metadata": {},
   "outputs": [],
   "source": [
    "import torch\n",
    "\n",
    "from torch.utils.data import Dataset, DataLoader\n",
    "from torch import nn\n",
    "\n",
    "class HWDBDataset(Dataset):\n",
    "    def __init__(self, helper: HWDBDatasetHelper):\n",
    "        self.helper = helper\n",
    "    \n",
    "    def __len__(self):\n",
    "        return self.helper.size()\n",
    "    \n",
    "    def __getitem__(self, idx):\n",
    "        img, label = self.helper.get_item(idx)\n",
    "        return (cv2.resize(img, (32, 32)) - 127.5) / 255., label"
   ]
  },
  {
   "cell_type": "code",
   "execution_count": 40,
   "id": "b9e0c381",
   "metadata": {},
   "outputs": [],
   "source": [
    "train_dataset = HWDBDataset(train_helper)\n",
    "val_dataset = HWDBDataset(val_helper)"
   ]
  },
  {
   "cell_type": "markdown",
   "id": "e7b6636f",
   "metadata": {},
   "source": [
    "### Model & training"
   ]
  },
  {
   "cell_type": "code",
   "execution_count": 41,
   "id": "7c02cb6e",
   "metadata": {},
   "outputs": [],
   "source": [
    "class LeNet(nn.Module):\n",
    "    def __init__(self, n_classes):\n",
    "        super(LeNet, self).__init__()\n",
    "        self.nn = nn.Sequential(\n",
    "            nn.Conv2d(1, 8, kernel_size=3, padding=1),\n",
    "            nn.ReLU(),\n",
    "            nn.MaxPool2d((2, 2)), # [16, 16, 8] \n",
    "            \n",
    "            nn.Conv2d(8, 16, kernel_size=3, padding=1),\n",
    "            nn.BatchNorm2d(16),\n",
    "            nn.ReLU(),\n",
    "            nn.Conv2d(16, 16, kernel_size=3, padding=1),\n",
    "            nn.MaxPool2d((2, 2)), # [8, 8, 16]\n",
    "            \n",
    "            nn.Conv2d(16, 32, kernel_size=3, padding=1),\n",
    "            nn.BatchNorm2d(32),\n",
    "            nn.ReLU(),\n",
    "            nn.MaxPool2d((2, 2)), # [4, 4, 32]\n",
    "            \n",
    "            nn.Flatten(),\n",
    "            nn.Linear(4 * 4 * 32, 128),\n",
    "            nn.BatchNorm1d(128),\n",
    "            nn.ReLU(),\n",
    "            \n",
    "            nn.Linear(128, n_classes, bias=False)\n",
    "        )\n",
    "    \n",
    "    def forward(self, x):\n",
    "        return self.nn(x)"
   ]
  },
  {
   "cell_type": "code",
   "execution_count": 42,
   "id": "c3e80256",
   "metadata": {},
   "outputs": [
    {
     "data": {
      "text/plain": [
       "LeNet(\n",
       "  (nn): Sequential(\n",
       "    (0): Conv2d(1, 8, kernel_size=(3, 3), stride=(1, 1), padding=(1, 1))\n",
       "    (1): ReLU()\n",
       "    (2): MaxPool2d(kernel_size=(2, 2), stride=(2, 2), padding=0, dilation=1, ceil_mode=False)\n",
       "    (3): Conv2d(8, 16, kernel_size=(3, 3), stride=(1, 1), padding=(1, 1))\n",
       "    (4): BatchNorm2d(16, eps=1e-05, momentum=0.1, affine=True, track_running_stats=True)\n",
       "    (5): ReLU()\n",
       "    (6): Conv2d(16, 16, kernel_size=(3, 3), stride=(1, 1), padding=(1, 1))\n",
       "    (7): MaxPool2d(kernel_size=(2, 2), stride=(2, 2), padding=0, dilation=1, ceil_mode=False)\n",
       "    (8): Conv2d(16, 32, kernel_size=(3, 3), stride=(1, 1), padding=(1, 1))\n",
       "    (9): BatchNorm2d(32, eps=1e-05, momentum=0.1, affine=True, track_running_stats=True)\n",
       "    (10): ReLU()\n",
       "    (11): MaxPool2d(kernel_size=(2, 2), stride=(2, 2), padding=0, dilation=1, ceil_mode=False)\n",
       "    (12): Flatten(start_dim=1, end_dim=-1)\n",
       "    (13): Linear(in_features=512, out_features=128, bias=True)\n",
       "    (14): BatchNorm1d(128, eps=1e-05, momentum=0.1, affine=True, track_running_stats=True)\n",
       "    (15): ReLU()\n",
       "    (16): Linear(in_features=128, out_features=7330, bias=False)\n",
       "  )\n",
       ")"
      ]
     },
     "execution_count": 42,
     "metadata": {},
     "output_type": "execute_result"
    }
   ],
   "source": [
    "model = LeNet(train_helper.vocabulary.num_classes())\n",
    "model.eval()"
   ]
  },
  {
   "cell_type": "code",
   "execution_count": 43,
   "id": "2f9230bd",
   "metadata": {},
   "outputs": [
    {
     "data": {
      "text/plain": [
       "tensor([[ 0.0077, -0.0035,  0.0146,  ...,  0.0103,  0.0010,  0.0185]],\n",
       "       grad_fn=<MmBackward0>)"
      ]
     },
     "execution_count": 43,
     "metadata": {},
     "output_type": "execute_result"
    }
   ],
   "source": [
    "model(torch.tensor(train_dataset[0][0], dtype=torch.float32).view(1, 1, 32, 32))"
   ]
  },
  {
   "cell_type": "code",
   "execution_count": 44,
   "id": "d357b1c9",
   "metadata": {},
   "outputs": [],
   "source": [
    "model = model.cuda()"
   ]
  },
  {
   "cell_type": "code",
   "execution_count": 45,
   "id": "1c9fe9f2",
   "metadata": {},
   "outputs": [],
   "source": [
    "train_loader = DataLoader(train_dataset, batch_size=512, shuffle=True, drop_last=True, num_workers=0)\n",
    "val_loader = DataLoader(val_dataset, batch_size=2048, shuffle=False, num_workers=0)"
   ]
  },
  {
   "cell_type": "code",
   "execution_count": 46,
   "id": "127e1bb2",
   "metadata": {},
   "outputs": [],
   "source": [
    "optim = torch.optim.AdamW(model.parameters(), lr=0.001)\n",
    "loss_fn = torch.nn.CrossEntropyLoss()"
   ]
  },
  {
   "cell_type": "code",
   "execution_count": 47,
   "id": "5c09f520",
   "metadata": {},
   "outputs": [],
   "source": [
    "from tqdm import tqdm\n",
    "\n",
    "\n",
    "def run_validation(val_loader: DataLoader, model: nn.Module, n_steps=None):\n",
    "    model.eval()\n",
    "    n_good = 0\n",
    "    n_all = 0\n",
    "    wrapper = lambda x: x\n",
    "    if n_steps is None:\n",
    "        n_steps = len(val_loader)\n",
    "        wrapper = tqdm\n",
    "    \n",
    "    with torch.no_grad():\n",
    "        for batch, (X, y) in enumerate(wrapper(val_loader)):\n",
    "            if batch == n_steps:\n",
    "                break\n",
    "            logits = model(X.unsqueeze(1).to(torch.float32).cuda())\n",
    "            classes = torch.argmax(logits, dim=1).cpu().numpy()\n",
    "            n_good += sum(classes == y.cpu().numpy())\n",
    "            n_all += len(classes)\n",
    "    \n",
    "    return n_good / n_all\n",
    "\n",
    "\n",
    "def train_epoch(train_loader: DataLoader, val_loader: DataLoader, model: nn.Module, optim, loss_fn):\n",
    "    for batch, (X, y) in enumerate(tqdm(train_loader)):\n",
    "        model.train()\n",
    "        logits = model(X.unsqueeze(1).to(torch.float32).cuda())\n",
    "        loss = loss_fn(logits, y.to(torch.long).cuda())\n",
    "        \n",
    "        optim.zero_grad()\n",
    "        loss.backward()\n",
    "        optim.step()"
   ]
  },
  {
   "cell_type": "code",
   "execution_count": 48,
   "id": "d3161e36",
   "metadata": {},
   "outputs": [],
   "source": [
    "torch.save(model.state_dict(), 'baseline.pth')"
   ]
  },
  {
   "cell_type": "code",
   "execution_count": 49,
   "id": "d5fd44e1",
   "metadata": {},
   "outputs": [
    {
     "name": "stdout",
     "output_type": "stream",
     "text": [
      "Epoch 0:\n"
     ]
    },
    {
     "name": "stderr",
     "output_type": "stream",
     "text": [
      "100%|██████████| 5036/5036 [06:31<00:00, 12.85it/s]\n",
      "100%|██████████| 315/315 [01:56<00:00,  2.71it/s]\n"
     ]
    },
    {
     "name": "stdout",
     "output_type": "stream",
     "text": [
      "accuracy: 0.7806918612678383\n",
      "Epoch 1:\n"
     ]
    },
    {
     "name": "stderr",
     "output_type": "stream",
     "text": [
      "100%|██████████| 5036/5036 [06:19<00:00, 13.26it/s]\n",
      "100%|██████████| 315/315 [01:39<00:00,  3.17it/s]\n"
     ]
    },
    {
     "name": "stdout",
     "output_type": "stream",
     "text": [
      "accuracy: 0.7665204798567814\n",
      "Epoch 2:\n"
     ]
    },
    {
     "name": "stderr",
     "output_type": "stream",
     "text": [
      "100%|██████████| 5036/5036 [06:19<00:00, 13.26it/s]\n",
      "100%|██████████| 315/315 [01:36<00:00,  3.25it/s]\n"
     ]
    },
    {
     "name": "stdout",
     "output_type": "stream",
     "text": [
      "accuracy: 0.8079471431518952\n",
      "Epoch 3:\n"
     ]
    },
    {
     "name": "stderr",
     "output_type": "stream",
     "text": [
      "100%|██████████| 5036/5036 [07:26<00:00, 11.27it/s]\n",
      "100%|██████████| 315/315 [02:03<00:00,  2.56it/s]\n"
     ]
    },
    {
     "name": "stdout",
     "output_type": "stream",
     "text": [
      "accuracy: 0.7989727105888996\n",
      "Epoch 4:\n"
     ]
    },
    {
     "name": "stderr",
     "output_type": "stream",
     "text": [
      "100%|██████████| 5036/5036 [06:53<00:00, 12.17it/s]\n",
      "100%|██████████| 315/315 [01:58<00:00,  2.66it/s]\n"
     ]
    },
    {
     "name": "stdout",
     "output_type": "stream",
     "text": [
      "accuracy: 0.8261814526325261\n",
      "Epoch 5:\n"
     ]
    },
    {
     "name": "stderr",
     "output_type": "stream",
     "text": [
      "100%|██████████| 5036/5036 [07:08<00:00, 11.74it/s]\n",
      "100%|██████████| 315/315 [01:46<00:00,  2.97it/s]\n"
     ]
    },
    {
     "name": "stdout",
     "output_type": "stream",
     "text": [
      "accuracy: 0.8280011603933547\n",
      "Epoch 6:\n"
     ]
    },
    {
     "name": "stderr",
     "output_type": "stream",
     "text": [
      "100%|██████████| 5036/5036 [09:03<00:00,  9.26it/s]\n",
      "100%|██████████| 315/315 [01:50<00:00,  2.85it/s]\n"
     ]
    },
    {
     "name": "stdout",
     "output_type": "stream",
     "text": [
      "accuracy: 0.8247976680437288\n",
      "Epoch 7:\n"
     ]
    },
    {
     "name": "stderr",
     "output_type": "stream",
     "text": [
      "100%|██████████| 5036/5036 [09:05<00:00,  9.24it/s]\n",
      "100%|██████████| 315/315 [02:42<00:00,  1.94it/s]\n"
     ]
    },
    {
     "name": "stdout",
     "output_type": "stream",
     "text": [
      "accuracy: 0.8158899425853502\n",
      "Epoch 8:\n"
     ]
    },
    {
     "name": "stderr",
     "output_type": "stream",
     "text": [
      "100%|██████████| 5036/5036 [13:16<00:00,  6.32it/s]\n",
      "100%|██████████| 315/315 [03:03<00:00,  1.72it/s]\n"
     ]
    },
    {
     "name": "stdout",
     "output_type": "stream",
     "text": [
      "accuracy: 0.8238963464673934\n",
      "Epoch 9:\n"
     ]
    },
    {
     "name": "stderr",
     "output_type": "stream",
     "text": [
      "100%|██████████| 5036/5036 [11:16<00:00,  7.44it/s]\n",
      "100%|██████████| 315/315 [03:01<00:00,  1.74it/s]"
     ]
    },
    {
     "name": "stdout",
     "output_type": "stream",
     "text": [
      "accuracy: 0.8046815976816954\n"
     ]
    },
    {
     "name": "stderr",
     "output_type": "stream",
     "text": [
      "\n"
     ]
    }
   ],
   "source": [
    "for epoch in range(10):\n",
    "    print(f'Epoch {epoch}:')\n",
    "    train_epoch(train_loader, val_loader, model, optim, loss_fn)\n",
    "    accuracy = run_validation(val_loader, model)\n",
    "    print(f'accuracy: {accuracy}')\n",
    "    torch.save(model.state_dict(), f'baseline_epoch{epoch}.pth')"
   ]
  },
  {
   "cell_type": "markdown",
   "id": "1de4c7b6",
   "metadata": {},
   "source": [
    "### Evaluation"
   ]
  },
  {
   "cell_type": "code",
   "execution_count": 50,
   "id": "73dd6418",
   "metadata": {},
   "outputs": [],
   "source": [
    "pred_path = './pred.txt'\n",
    "\n",
    "test_reader = LMDBReader(test_path)\n",
    "test_reader.open()\n",
    "test_helper = HWDBDatasetHelper(test_reader, prefix='Test')"
   ]
  },
  {
   "cell_type": "code",
   "execution_count": 53,
   "id": "71d47be7",
   "metadata": {},
   "outputs": [],
   "source": [
    "test_dataset = HWDBDataset(test_helper)\n",
    "test_loader = DataLoader(test_dataset, batch_size=2048, shuffle=False, num_workers=0)"
   ]
  },
  {
   "cell_type": "code",
   "execution_count": 54,
   "id": "0304466b",
   "metadata": {},
   "outputs": [
    {
     "name": "stderr",
     "output_type": "stream",
     "text": [
      "100%|██████████| 380/380 [01:58<00:00,  3.20it/s]\n"
     ]
    }
   ],
   "source": [
    "preds = []\n",
    "model.eval()\n",
    "with torch.no_grad():\n",
    "    for X, _ in tqdm(test_loader):\n",
    "        logits = model(X.unsqueeze(1).to(torch.float32).cuda())\n",
    "        classes = torch.argmax(logits, dim=1).cpu().numpy()\n",
    "        preds.extend(classes)"
   ]
  },
  {
   "cell_type": "code",
   "execution_count": 62,
   "id": "34ee1630",
   "metadata": {},
   "outputs": [],
   "source": [
    "with open(pred_path, 'w', encoding=\"utf-8\") as f_pred:\n",
    "    for idx, pred in enumerate(preds):\n",
    "        name = test_helper.namelist[idx]\n",
    "        cls = train_helper.vocabulary.class_by_index(pred)\n",
    "        print(name, cls, file=f_pred)"
   ]
  },
  {
   "cell_type": "code",
   "execution_count": 73,
   "id": "bf74d797",
   "metadata": {},
   "outputs": [
    {
     "data": {
      "text/plain": [
       "0.7688336340327331"
      ]
     },
     "execution_count": 73,
     "metadata": {},
     "output_type": "execute_result"
    }
   ],
   "source": [
    "#from course_intro_ocr_t2.evaluate import evaluate\n",
    "def evaluate(gt_path, pred_path):\n",
    "    gt = dict()\n",
    "    with open(gt_path, encoding=\"utf-8\") as gt_f:\n",
    "        for line in gt_f:\n",
    "            name, cls = line.strip().split()\n",
    "            gt[name] = cls\n",
    "    \n",
    "    n_good = 0\n",
    "    n_all = len(gt)\n",
    "    with open(pred_path, encoding=\"utf-8\") as pred_f:\n",
    "        for line in pred_f:\n",
    "            name, cls = line.strip().split()\n",
    "            if cls == gt[name]:\n",
    "                n_good += 1\n",
    "    \n",
    "    return n_good / n_all\n",
    "\n",
    "\n",
    "def _run_evaluation():\n",
    "    base = Path(__file__).absolute().parent.parent\n",
    "    gt_path = base / 'gt.txt'\n",
    "    pred_path = base / 'pred.txt'\n",
    "    score = evaluate(gt_path, pred_path)\n",
    "    print('Accuracy = {:1.4f}'.format(score))\n",
    "evaluate(gt_path, pred_path)\n",
    "#evaluate()"
   ]
  },
  {
   "cell_type": "code",
   "execution_count": null,
   "id": "73f5d06d",
   "metadata": {},
   "outputs": [],
   "source": []
  }
 ],
 "metadata": {
  "kernelspec": {
   "display_name": "Python 3.9.0 64-bit",
   "language": "python",
   "name": "python3"
  },
  "language_info": {
   "codemirror_mode": {
    "name": "ipython",
    "version": 3
   },
   "file_extension": ".py",
   "mimetype": "text/x-python",
   "name": "python",
   "nbconvert_exporter": "python",
   "pygments_lexer": "ipython3",
   "version": "3.9.0"
  },
  "vscode": {
   "interpreter": {
    "hash": "bae7ddeda0b50b85f5426381c5daf82e55ace4a8634779dfa04a3d620aaef92c"
   }
  }
 },
 "nbformat": 4,
 "nbformat_minor": 5
}
